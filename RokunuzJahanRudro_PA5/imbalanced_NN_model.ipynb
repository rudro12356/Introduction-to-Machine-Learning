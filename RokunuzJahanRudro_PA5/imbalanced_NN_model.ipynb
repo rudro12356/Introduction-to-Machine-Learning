{
 "cells": [
  {
   "cell_type": "markdown",
   "metadata": {},
   "source": [
    "# Assignment 5"
   ]
  },
  {
   "cell_type": "markdown",
   "metadata": {},
   "source": [
    "## Part 1"
   ]
  },
  {
   "cell_type": "code",
   "execution_count": 199,
   "metadata": {},
   "outputs": [],
   "source": [
    "import numpy as np\n",
    "from pandas import read_csv\n",
    "from sklearn.model_selection import train_test_split\n",
    "from sklearn.metrics import classification_report\n",
    "from sklearn.metrics import accuracy_score, confusion_matrix, recall_score, precision_score, balanced_accuracy_score\n",
    "from sklearn.model_selection import cross_validate\n",
    "from sklearn.model_selection import cross_val_score\n",
    "from sklearn.metrics import f1_score\n",
    "from sklearn.model_selection import KFold, StratifiedKFold\n",
    "from sklearn import preprocessing\n",
    "from sklearn.neural_network import MLPClassifier\n",
    "import matplotlib.pyplot as plt\n",
    "from sklearn import metrics\n",
    "from sklearn.metrics import balanced_accuracy_score\n",
    "from scikitplot.metrics import plot_roc\n",
    "from scikitplot.metrics import plot_precision_recall\n",
    "import imblearn"
   ]
  },
  {
   "cell_type": "code",
   "execution_count": 200,
   "metadata": {},
   "outputs": [
    {
     "data": {
      "text/html": [
       "<div>\n",
       "<style scoped>\n",
       "    .dataframe tbody tr th:only-of-type {\n",
       "        vertical-align: middle;\n",
       "    }\n",
       "\n",
       "    .dataframe tbody tr th {\n",
       "        vertical-align: top;\n",
       "    }\n",
       "\n",
       "    .dataframe thead th {\n",
       "        text-align: right;\n",
       "    }\n",
       "</style>\n",
       "<table border=\"1\" class=\"dataframe\">\n",
       "  <thead>\n",
       "    <tr style=\"text-align: right;\">\n",
       "      <th></th>\n",
       "      <th>sepal-length</th>\n",
       "      <th>sepal-width</th>\n",
       "      <th>petal-length</th>\n",
       "      <th>petalwidth</th>\n",
       "      <th>class</th>\n",
       "    </tr>\n",
       "  </thead>\n",
       "  <tbody>\n",
       "    <tr>\n",
       "      <th>0</th>\n",
       "      <td>sepal-length</td>\n",
       "      <td>sepal-width</td>\n",
       "      <td>petal-length</td>\n",
       "      <td>petal-width</td>\n",
       "      <td>class</td>\n",
       "    </tr>\n",
       "    <tr>\n",
       "      <th>1</th>\n",
       "      <td>5.4</td>\n",
       "      <td>3.7</td>\n",
       "      <td>1.5</td>\n",
       "      <td>0.2</td>\n",
       "      <td>Iris-setosa</td>\n",
       "    </tr>\n",
       "    <tr>\n",
       "      <th>2</th>\n",
       "      <td>4.8</td>\n",
       "      <td>3.4</td>\n",
       "      <td>1.6</td>\n",
       "      <td>0.2</td>\n",
       "      <td>Iris-setosa</td>\n",
       "    </tr>\n",
       "    <tr>\n",
       "      <th>3</th>\n",
       "      <td>4.8</td>\n",
       "      <td>3</td>\n",
       "      <td>1.4</td>\n",
       "      <td>0.1</td>\n",
       "      <td>Iris-setosa</td>\n",
       "    </tr>\n",
       "    <tr>\n",
       "      <th>4</th>\n",
       "      <td>4.3</td>\n",
       "      <td>3</td>\n",
       "      <td>1.1</td>\n",
       "      <td>0.1</td>\n",
       "      <td>Iris-setosa</td>\n",
       "    </tr>\n",
       "    <tr>\n",
       "      <th>5</th>\n",
       "      <td>5.8</td>\n",
       "      <td>4</td>\n",
       "      <td>1.2</td>\n",
       "      <td>0.2</td>\n",
       "      <td>Iris-setosa</td>\n",
       "    </tr>\n",
       "    <tr>\n",
       "      <th>6</th>\n",
       "      <td>5.7</td>\n",
       "      <td>4.4</td>\n",
       "      <td>1.5</td>\n",
       "      <td>0.4</td>\n",
       "      <td>Iris-setosa</td>\n",
       "    </tr>\n",
       "    <tr>\n",
       "      <th>7</th>\n",
       "      <td>5.4</td>\n",
       "      <td>3.9</td>\n",
       "      <td>1.3</td>\n",
       "      <td>0.4</td>\n",
       "      <td>Iris-setosa</td>\n",
       "    </tr>\n",
       "    <tr>\n",
       "      <th>8</th>\n",
       "      <td>5.1</td>\n",
       "      <td>3.5</td>\n",
       "      <td>1.4</td>\n",
       "      <td>0.3</td>\n",
       "      <td>Iris-setosa</td>\n",
       "    </tr>\n",
       "    <tr>\n",
       "      <th>9</th>\n",
       "      <td>5.7</td>\n",
       "      <td>3.8</td>\n",
       "      <td>1.7</td>\n",
       "      <td>0.3</td>\n",
       "      <td>Iris-setosa</td>\n",
       "    </tr>\n",
       "  </tbody>\n",
       "</table>\n",
       "</div>"
      ],
      "text/plain": [
       "   sepal-length  sepal-width  petal-length   petalwidth        class\n",
       "0  sepal-length  sepal-width  petal-length  petal-width        class\n",
       "1           5.4          3.7           1.5          0.2  Iris-setosa\n",
       "2           4.8          3.4           1.6          0.2  Iris-setosa\n",
       "3           4.8            3           1.4          0.1  Iris-setosa\n",
       "4           4.3            3           1.1          0.1  Iris-setosa\n",
       "5           5.8            4           1.2          0.2  Iris-setosa\n",
       "6           5.7          4.4           1.5          0.4  Iris-setosa\n",
       "7           5.4          3.9           1.3          0.4  Iris-setosa\n",
       "8           5.1          3.5           1.4          0.3  Iris-setosa\n",
       "9           5.7          3.8           1.7          0.3  Iris-setosa"
      ]
     },
     "execution_count": 200,
     "metadata": {},
     "output_type": "execute_result"
    }
   ],
   "source": [
    "#reading data from the new csv file\n",
    "url = \"imbalanced iris.csv\"\n",
    "names = ['sepal-length', 'sepal-width', 'petal-length', 'petalwidth',\n",
    "         'class']\n",
    "dataset = read_csv(url, names=names)\n",
    "dataset.head(10)"
   ]
  },
  {
   "cell_type": "code",
   "execution_count": 201,
   "metadata": {},
   "outputs": [
    {
     "name": "stdout",
     "output_type": "stream",
     "text": [
      "Rows : 121, column : 5\n"
     ]
    },
    {
     "data": {
      "text/plain": [
       "pandas.core.frame.DataFrame"
      ]
     },
     "execution_count": 201,
     "metadata": {},
     "output_type": "execute_result"
    }
   ],
   "source": [
    "rows, col = dataset.shape\n",
    "print(\"Rows : %s, column : %s\" % (rows, col))\n",
    "type(dataset)"
   ]
  },
  {
   "cell_type": "code",
   "execution_count": 202,
   "metadata": {},
   "outputs": [
    {
     "data": {
      "text/html": [
       "<div>\n",
       "<style scoped>\n",
       "    .dataframe tbody tr th:only-of-type {\n",
       "        vertical-align: middle;\n",
       "    }\n",
       "\n",
       "    .dataframe tbody tr th {\n",
       "        vertical-align: top;\n",
       "    }\n",
       "\n",
       "    .dataframe thead th {\n",
       "        text-align: right;\n",
       "    }\n",
       "</style>\n",
       "<table border=\"1\" class=\"dataframe\">\n",
       "  <thead>\n",
       "    <tr style=\"text-align: right;\">\n",
       "      <th></th>\n",
       "      <th>sepal-length</th>\n",
       "      <th>sepal-width</th>\n",
       "      <th>petal-length</th>\n",
       "      <th>petalwidth</th>\n",
       "    </tr>\n",
       "  </thead>\n",
       "  <tbody>\n",
       "    <tr>\n",
       "      <th>1</th>\n",
       "      <td>5.4</td>\n",
       "      <td>3.7</td>\n",
       "      <td>1.5</td>\n",
       "      <td>0.2</td>\n",
       "    </tr>\n",
       "    <tr>\n",
       "      <th>2</th>\n",
       "      <td>4.8</td>\n",
       "      <td>3.4</td>\n",
       "      <td>1.6</td>\n",
       "      <td>0.2</td>\n",
       "    </tr>\n",
       "    <tr>\n",
       "      <th>3</th>\n",
       "      <td>4.8</td>\n",
       "      <td>3</td>\n",
       "      <td>1.4</td>\n",
       "      <td>0.1</td>\n",
       "    </tr>\n",
       "    <tr>\n",
       "      <th>4</th>\n",
       "      <td>4.3</td>\n",
       "      <td>3</td>\n",
       "      <td>1.1</td>\n",
       "      <td>0.1</td>\n",
       "    </tr>\n",
       "    <tr>\n",
       "      <th>5</th>\n",
       "      <td>5.8</td>\n",
       "      <td>4</td>\n",
       "      <td>1.2</td>\n",
       "      <td>0.2</td>\n",
       "    </tr>\n",
       "    <tr>\n",
       "      <th>...</th>\n",
       "      <td>...</td>\n",
       "      <td>...</td>\n",
       "      <td>...</td>\n",
       "      <td>...</td>\n",
       "    </tr>\n",
       "    <tr>\n",
       "      <th>116</th>\n",
       "      <td>6.7</td>\n",
       "      <td>3</td>\n",
       "      <td>5.2</td>\n",
       "      <td>2.3</td>\n",
       "    </tr>\n",
       "    <tr>\n",
       "      <th>117</th>\n",
       "      <td>6.3</td>\n",
       "      <td>2.5</td>\n",
       "      <td>5</td>\n",
       "      <td>1.9</td>\n",
       "    </tr>\n",
       "    <tr>\n",
       "      <th>118</th>\n",
       "      <td>6.5</td>\n",
       "      <td>3</td>\n",
       "      <td>5.2</td>\n",
       "      <td>2</td>\n",
       "    </tr>\n",
       "    <tr>\n",
       "      <th>119</th>\n",
       "      <td>6.2</td>\n",
       "      <td>3.4</td>\n",
       "      <td>5.4</td>\n",
       "      <td>2.3</td>\n",
       "    </tr>\n",
       "    <tr>\n",
       "      <th>120</th>\n",
       "      <td>5.9</td>\n",
       "      <td>3</td>\n",
       "      <td>5.1</td>\n",
       "      <td>1.8</td>\n",
       "    </tr>\n",
       "  </tbody>\n",
       "</table>\n",
       "<p>120 rows × 4 columns</p>\n",
       "</div>"
      ],
      "text/plain": [
       "    sepal-length sepal-width petal-length petalwidth\n",
       "1            5.4         3.7          1.5        0.2\n",
       "2            4.8         3.4          1.6        0.2\n",
       "3            4.8           3          1.4        0.1\n",
       "4            4.3           3          1.1        0.1\n",
       "5            5.8           4          1.2        0.2\n",
       "..           ...         ...          ...        ...\n",
       "116          6.7           3          5.2        2.3\n",
       "117          6.3         2.5            5        1.9\n",
       "118          6.5           3          5.2          2\n",
       "119          6.2         3.4          5.4        2.3\n",
       "120          5.9           3          5.1        1.8\n",
       "\n",
       "[120 rows x 4 columns]"
      ]
     },
     "execution_count": 202,
     "metadata": {},
     "output_type": "execute_result"
    }
   ],
   "source": [
    "features_df = dataset.iloc[1:,0:4]\n",
    "features_df"
   ]
  },
  {
   "cell_type": "code",
   "execution_count": 203,
   "metadata": {},
   "outputs": [
    {
     "data": {
      "text/plain": [
       "1         Iris-setosa\n",
       "2         Iris-setosa\n",
       "3         Iris-setosa\n",
       "4         Iris-setosa\n",
       "5         Iris-setosa\n",
       "            ...      \n",
       "116    Iris-virginica\n",
       "117    Iris-virginica\n",
       "118    Iris-virginica\n",
       "119    Iris-virginica\n",
       "120    Iris-virginica\n",
       "Name: class, Length: 120, dtype: object"
      ]
     },
     "execution_count": 203,
     "metadata": {},
     "output_type": "execute_result"
    }
   ],
   "source": [
    "target_df = dataset.iloc[1:,-1]\n",
    "target_df"
   ]
  },
  {
   "cell_type": "code",
   "execution_count": 204,
   "metadata": {},
   "outputs": [
    {
     "data": {
      "text/html": [
       "<style>#sk-container-id-5 {color: black;background-color: white;}#sk-container-id-5 pre{padding: 0;}#sk-container-id-5 div.sk-toggleable {background-color: white;}#sk-container-id-5 label.sk-toggleable__label {cursor: pointer;display: block;width: 100%;margin-bottom: 0;padding: 0.3em;box-sizing: border-box;text-align: center;}#sk-container-id-5 label.sk-toggleable__label-arrow:before {content: \"▸\";float: left;margin-right: 0.25em;color: #696969;}#sk-container-id-5 label.sk-toggleable__label-arrow:hover:before {color: black;}#sk-container-id-5 div.sk-estimator:hover label.sk-toggleable__label-arrow:before {color: black;}#sk-container-id-5 div.sk-toggleable__content {max-height: 0;max-width: 0;overflow: hidden;text-align: left;background-color: #f0f8ff;}#sk-container-id-5 div.sk-toggleable__content pre {margin: 0.2em;color: black;border-radius: 0.25em;background-color: #f0f8ff;}#sk-container-id-5 input.sk-toggleable__control:checked~div.sk-toggleable__content {max-height: 200px;max-width: 100%;overflow: auto;}#sk-container-id-5 input.sk-toggleable__control:checked~label.sk-toggleable__label-arrow:before {content: \"▾\";}#sk-container-id-5 div.sk-estimator input.sk-toggleable__control:checked~label.sk-toggleable__label {background-color: #d4ebff;}#sk-container-id-5 div.sk-label input.sk-toggleable__control:checked~label.sk-toggleable__label {background-color: #d4ebff;}#sk-container-id-5 input.sk-hidden--visually {border: 0;clip: rect(1px 1px 1px 1px);clip: rect(1px, 1px, 1px, 1px);height: 1px;margin: -1px;overflow: hidden;padding: 0;position: absolute;width: 1px;}#sk-container-id-5 div.sk-estimator {font-family: monospace;background-color: #f0f8ff;border: 1px dotted black;border-radius: 0.25em;box-sizing: border-box;margin-bottom: 0.5em;}#sk-container-id-5 div.sk-estimator:hover {background-color: #d4ebff;}#sk-container-id-5 div.sk-parallel-item::after {content: \"\";width: 100%;border-bottom: 1px solid gray;flex-grow: 1;}#sk-container-id-5 div.sk-label:hover label.sk-toggleable__label {background-color: #d4ebff;}#sk-container-id-5 div.sk-serial::before {content: \"\";position: absolute;border-left: 1px solid gray;box-sizing: border-box;top: 0;bottom: 0;left: 50%;z-index: 0;}#sk-container-id-5 div.sk-serial {display: flex;flex-direction: column;align-items: center;background-color: white;padding-right: 0.2em;padding-left: 0.2em;position: relative;}#sk-container-id-5 div.sk-item {position: relative;z-index: 1;}#sk-container-id-5 div.sk-parallel {display: flex;align-items: stretch;justify-content: center;background-color: white;position: relative;}#sk-container-id-5 div.sk-item::before, #sk-container-id-5 div.sk-parallel-item::before {content: \"\";position: absolute;border-left: 1px solid gray;box-sizing: border-box;top: 0;bottom: 0;left: 50%;z-index: -1;}#sk-container-id-5 div.sk-parallel-item {display: flex;flex-direction: column;z-index: 1;position: relative;background-color: white;}#sk-container-id-5 div.sk-parallel-item:first-child::after {align-self: flex-end;width: 50%;}#sk-container-id-5 div.sk-parallel-item:last-child::after {align-self: flex-start;width: 50%;}#sk-container-id-5 div.sk-parallel-item:only-child::after {width: 0;}#sk-container-id-5 div.sk-dashed-wrapped {border: 1px dashed gray;margin: 0 0.4em 0.5em 0.4em;box-sizing: border-box;padding-bottom: 0.4em;background-color: white;}#sk-container-id-5 div.sk-label label {font-family: monospace;font-weight: bold;display: inline-block;line-height: 1.2em;}#sk-container-id-5 div.sk-label-container {text-align: center;}#sk-container-id-5 div.sk-container {/* jupyter's `normalize.less` sets `[hidden] { display: none; }` but bootstrap.min.css set `[hidden] { display: none !important; }` so we also need the `!important` here to be able to override the default hidden behavior on the sphinx rendered scikit-learn.org. See: https://github.com/scikit-learn/scikit-learn/issues/21755 */display: inline-block !important;position: relative;}#sk-container-id-5 div.sk-text-repr-fallback {display: none;}</style><div id=\"sk-container-id-5\" class=\"sk-top-container\"><div class=\"sk-text-repr-fallback\"><pre>LabelEncoder()</pre><b>In a Jupyter environment, please rerun this cell to show the HTML representation or trust the notebook. <br />On GitHub, the HTML representation is unable to render, please try loading this page with nbviewer.org.</b></div><div class=\"sk-container\" hidden><div class=\"sk-item\"><div class=\"sk-estimator sk-toggleable\"><input class=\"sk-toggleable__control sk-hidden--visually\" id=\"sk-estimator-id-5\" type=\"checkbox\" checked><label for=\"sk-estimator-id-5\" class=\"sk-toggleable__label sk-toggleable__label-arrow\">LabelEncoder</label><div class=\"sk-toggleable__content\"><pre>LabelEncoder()</pre></div></div></div></div></div>"
      ],
      "text/plain": [
       "LabelEncoder()"
      ]
     },
     "execution_count": 204,
     "metadata": {},
     "output_type": "execute_result"
    }
   ],
   "source": [
    "X = features_df.to_numpy()\n",
    "y = target_df.to_numpy()\n",
    "array_2 = preprocessing.LabelEncoder()\n",
    "array_2.fit(y)\n"
   ]
  },
  {
   "cell_type": "code",
   "execution_count": 205,
   "metadata": {},
   "outputs": [],
   "source": [
    "X_train, X_test, y_train, y_test = train_test_split(X, array_2.transform(y), test_size=0.5, random_state=1)\n",
    "\n",
    "X_train_2 = X_test\n",
    "y_train_2 = y_test\n",
    "\n",
    "X_test_2 = X_train\n",
    "y_test_2 = y_train"
   ]
  },
  {
   "cell_type": "code",
   "execution_count": 206,
   "metadata": {},
   "outputs": [],
   "source": [
    "clf = MLPClassifier(solver='adam', alpha=0.0001, hidden_layer_sizes=(100, ), random_state=1,max_iter=50000).fit(X_train, y_train)"
   ]
  },
  {
   "cell_type": "code",
   "execution_count": 207,
   "metadata": {},
   "outputs": [],
   "source": [
    "clf_prediction = (clf.predict(X_test)).round()\n",
    "clf.fit(X_train_2, y_train_2)\n",
    "clfPrediction_2 = (clf.predict(X_test_2)).round()\n",
    "\n",
    "actual = np.concatenate([y_test, y_test_2])\n",
    "predicted = np.concatenate([clf_prediction, clfPrediction_2]).round()\n"
   ]
  },
  {
   "cell_type": "code",
   "execution_count": 208,
   "metadata": {},
   "outputs": [],
   "source": [
    "#credit goes to  cskroonenberg\n",
    "def class_balanced_score(actual, predicted):\n",
    "    recall = recall_score(actual, predicted, average=None)\n",
    "    precision = precision_score(actual, predicted, average=None)\n",
    "    minimum = [None]*len(recall)\n",
    "\n",
    "    # Find minimum between precision and recall\n",
    "    for i in range(len(recall)):\n",
    "        minimum[i] = min(recall[i], precision[i])\n",
    "\n",
    "    # Take average of min values\n",
    "    avg = sum(minimum)/len(minimum)\n",
    "    return avg\n",
    "\n",
    "#credit goes to  cskroonenberg\n",
    "def balanced_accuracy(actual, predicted):\n",
    "    # Calculate recall and specificity\n",
    "    recall = recall_score(actual, predicted, average=None)\n",
    "    CM = confusion_matrix(actual, predicted)\n",
    "    FP = CM.sum(axis=0) - np.diag(CM)  \n",
    "    FN = CM.sum(axis=1) - np.diag(CM)\n",
    "    TP = np.diag(CM)\n",
    "    TN = CM.sum() - (FP + FN + TP)\n",
    "    S = TN/(TN+FP)\n",
    "\n",
    "    avg = [None]*len(recall)\n",
    "    # Calculate averages of recall and specificity for each class\n",
    "    for i in range(len(recall)):\n",
    "        avg[i] = (recall[i] + S[i])/2\n",
    "\n",
    "    # Take average of average values\n",
    "    avg = sum(avg)/len(avg)\n",
    "    return avg\n",
    "\n",
    "class_balanced_score(actual, predicted)\n",
    "balanced_accuracy(actual, predicted)"
   ]
  },
  {
   "cell_type": "code",
   "execution_count": 243,
   "metadata": {},
   "outputs": [],
   "source": [
    "def show_metrics(actual, predicted):\n",
    "    print(f\"Accuracy score: {accuracy_score(actual, predicted)}\")\n",
    "    print(f\"Confusion matrix for NN model:\\n \" + str(confusion_matrix(actual, predicted)))\n",
    "    print(f\"F-1 score: \" + str(f1_score(actual, predicted, average=None)))\n",
    "    print(f\"Precision: {precision_score(actual, predicted, average=None)}\")\n",
    "    print(f\"Recall: {recall_score(actual, predicted,average=None)}\")\n",
    "    print(f\"Class balanced score: {class_balanced_score(actual, predicted)}\")\n",
    "    print(f\"Balanced score: {balanced_accuracy(actual, predicted)}\")\n",
    "\n",
    "    r = confusion_matrix(actual, predicted).sum()\n",
    "    print(f\"Sum of Matrix: {r}\")"
   ]
  },
  {
   "cell_type": "code",
   "execution_count": 244,
   "metadata": {},
   "outputs": [
    {
     "name": "stdout",
     "output_type": "stream",
     "text": [
      "Accuracy score: 0.975\n",
      "Confusion matrix for NN model:\n",
      " [[40  0  0]\n",
      " [ 0 27  3]\n",
      " [ 0  0 50]]\n",
      "F-1 score: [1.         0.94736842 0.97087379]\n",
      "Precision: [1.         1.         0.94339623]\n",
      "Recall: [1.  0.9 1. ]\n",
      "Class balanced score: 0.9477987421383647\n",
      "Balanced score: 0.9761904761904763\n",
      "Sum of Matrix: 120\n"
     ]
    }
   ],
   "source": [
    "show_metrics(actual, predicted)"
   ]
  },
  {
   "cell_type": "markdown",
   "metadata": {},
   "source": [
    "## Part 2"
   ]
  },
  {
   "cell_type": "markdown",
   "metadata": {},
   "source": [
    "### Random Oversampling"
   ]
  },
  {
   "cell_type": "code",
   "execution_count": 247,
   "metadata": {},
   "outputs": [
    {
     "name": "stdout",
     "output_type": "stream",
     "text": [
      "Counter({'Iris-virginica': 50, 'Iris-setosa': 40, 'Iris-versicolor': 30})\n",
      "Counter({'Iris-setosa': 50, 'Iris-versicolor': 50, 'Iris-virginica': 50})\n"
     ]
    }
   ],
   "source": [
    "from collections import Counter\n",
    "from imblearn.over_sampling import RandomOverSampler\n",
    "\n",
    "\n",
    "# previous - summarize class distribution\n",
    "print(Counter(y))\n",
    "# define oversampling strategy\n",
    "oversample = RandomOverSampler()\n",
    "\n",
    "# fit and apply the transform\n",
    "X_over, y_over = oversample.fit_resample(X, y)\n",
    "\n",
    "# after- summarize class distribution\n",
    "print(Counter(y_over))"
   ]
  },
  {
   "cell_type": "code",
   "execution_count": 248,
   "metadata": {},
   "outputs": [],
   "source": [
    "from typing import Any\n",
    "from imblearn.pipeline import Pipeline\n",
    "from sklearn.datasets import make_classification\n",
    "from sklearn.model_selection import KFold\n",
    "from numpy import mean\n",
    "from sklearn.model_selection import cross_val_predict\n",
    "\n",
    "expected = y_over\n",
    "# define pipeline\n",
    "steps = [('over', RandomOverSampler()), ('model', MLPClassifier())]\n",
    "pipeline = Pipeline(steps=steps)\n",
    "# evaluate pipeline\n",
    "cv = KFold(n_splits=2,random_state=5, shuffle=True)\n",
    "scores = cross_val_score(pipeline, X, y, scoring='f1_micro', cv=cv, n_jobs=-1)\n",
    "y_prediction = cross_val_predict(clf,X_over,y_over, cv=2)\n",
    "acc_score = accuracy_score(expected, y_prediction)\n",
    "score = mean(scores)"
   ]
  },
  {
   "cell_type": "code",
   "execution_count": 249,
   "metadata": {},
   "outputs": [
    {
     "name": "stdout",
     "output_type": "stream",
     "text": [
      "Accuracy score: 0.9333333333333333\n",
      "Score: 0.975\n",
      "Confusion matrix: \n",
      "[[50  0  0]\n",
      " [ 0 46  4]\n",
      " [ 0  6 44]]\n",
      "Sum of matrix: 150\n"
     ]
    },
    {
     "data": {
      "image/png": "[encoded data removed]",
      "text/plain": [
       "<Figure size 480x480 with 2 Axes>"
      ]
     },
     "metadata": {},
     "output_type": "display_data"
    }
   ],
   "source": [
    "import pylab as pl\n",
    "\n",
    "cm = confusion_matrix(expected, y_prediction)\n",
    "print(f\"Accuracy score: {acc_score}\")\n",
    "print(f\"Score: {score}\")\n",
    "print(f\"Confusion matrix: \\n{cm}\")\n",
    "print(f\"Sum of matrix: {cm.sum()}\")\n",
    "\n",
    "pl.matshow(cm)\n",
    "pl.title('Confusion matrix of the classifier')\n",
    "pl.xlabel('Predicted')\n",
    "pl.ylabel('True')\n",
    "\n",
    "pl.colorbar()\n",
    "pl.show()"
   ]
  },
  {
   "cell_type": "markdown",
   "metadata": {},
   "source": [
    "### SMOTE"
   ]
  },
  {
   "cell_type": "code",
   "execution_count": 250,
   "metadata": {},
   "outputs": [],
   "source": [
    "from imblearn.over_sampling import SMOTE"
   ]
  },
  {
   "cell_type": "code",
   "execution_count": 252,
   "metadata": {},
   "outputs": [
    {
     "name": "stdout",
     "output_type": "stream",
     "text": [
      "Counter({'Iris-setosa': 50, 'Iris-versicolor': 50, 'Iris-virginica': 50})\n"
     ]
    },
    {
     "data": {
      "image/png": "[encoded data removed]",
      "text/plain": [
       "<Figure size 640x480 with 1 Axes>"
      ]
     },
     "metadata": {},
     "output_type": "display_data"
    }
   ],
   "source": [
    "# define oversampling strategy\n",
    "oversample = SMOTE()\n",
    "\n",
    "# fit and apply the transform\n",
    "X_over, y_over = oversample.fit_resample(X, y)\n",
    "\n",
    "counter = Counter(y_over)\n",
    "# after- summarize class distribution\n",
    "print(counter)\n",
    "\n",
    "from matplotlib import pyplot\n",
    "from collections import Counter\n",
    "from numpy import where\n",
    "# scatter plot of examples by class label\n",
    "for label, _ in counter.items():\n",
    "\trow_ix = where(y == label)[0]\n",
    "\tpyplot.scatter(X[row_ix, 0], X[row_ix, 1], label=str(label))\n",
    "pyplot.legend()\n",
    "pyplot.show()"
   ]
  },
  {
   "cell_type": "code",
   "execution_count": 253,
   "metadata": {},
   "outputs": [],
   "source": [
    "expected = y_over\n",
    "# define pipeline\n",
    "steps = [('over', SMOTE()), ('model', MLPClassifier())]\n",
    "pipeline = Pipeline(steps=steps)"
   ]
  },
  {
   "cell_type": "code",
   "execution_count": 254,
   "metadata": {},
   "outputs": [],
   "source": [
    "# evaluate pipeline\n",
    "cv = KFold(n_splits=2,random_state=5, shuffle=True)\n",
    "scores = cross_val_score(pipeline, X, y, scoring='f1_micro', cv=cv, n_jobs=-1)\n",
    "y_prediction = cross_val_predict(clf,X_over,y_over, cv=2)\n",
    "acc_score = accuracy_score(expected, y_prediction)\n",
    "score = mean(scores)"
   ]
  },
  {
   "cell_type": "code",
   "execution_count": 255,
   "metadata": {},
   "outputs": [
    {
     "name": "stdout",
     "output_type": "stream",
     "text": [
      "Accuracy score: 0.94\n",
      "Score: 0.9583333333333334\n",
      "Confusion matrix: \n",
      "[[50  0  0]\n",
      " [ 0 47  3]\n",
      " [ 0  6 44]]\n",
      "Sum of matrix: 150\n"
     ]
    },
    {
     "data": {
      "image/png": "[encoded data removed]",
      "text/plain": [
       "<Figure size 480x480 with 2 Axes>"
      ]
     },
     "metadata": {},
     "output_type": "display_data"
    }
   ],
   "source": [
    "import pylab as pl\n",
    "\n",
    "cm = confusion_matrix(expected, y_prediction)\n",
    "print(f\"Accuracy score: {acc_score}\")\n",
    "print(f\"Score: {score}\")\n",
    "print(f\"Confusion matrix: \\n{cm}\")\n",
    "print(f\"Sum of matrix: {cm.sum()}\")\n",
    "\n",
    "\n",
    "pl.matshow(cm)\n",
    "pl.title('Confusion matrix of the classifier')\n",
    "pl.xlabel('Predicted')\n",
    "pl.ylabel('True')\n",
    "\n",
    "pl.colorbar()\n",
    "pl.show()"
   ]
  },
  {
   "cell_type": "markdown",
   "metadata": {},
   "source": [
    "#### ADASYN"
   ]
  },
  {
   "cell_type": "code",
   "execution_count": 268,
   "metadata": {},
   "outputs": [
    {
     "name": "stdout",
     "output_type": "stream",
     "text": [
      "Counter({'Iris-virginica': 50, 'Iris-setosa': 40, 'Iris-versicolor': 30})\n",
      "Counter({'Iris-versicolor': 51, 'Iris-virginica': 50, 'Iris-setosa': 40})\n"
     ]
    }
   ],
   "source": [
    "from imblearn.over_sampling import ADASYN\n",
    "\n",
    "print(Counter(y))\n",
    "# define oversampling strategy\n",
    "oversample = ADASYN(sampling_strategy=\"minority\", random_state = 10)\n",
    "\n",
    "# fit and apply the transform\n",
    "X_over, y_over = oversample.fit_resample(X, y)\n",
    "\n",
    "counter = Counter(y_over)\n",
    "# after- summarize class distribution\n",
    "print(counter)"
   ]
  },
  {
   "cell_type": "code",
   "execution_count": 269,
   "metadata": {},
   "outputs": [
    {
     "data": {
      "image/png": "[encoded data removed]",
      "text/plain": [
       "<Figure size 640x480 with 1 Axes>"
      ]
     },
     "metadata": {},
     "output_type": "display_data"
    }
   ],
   "source": [
    "# scatter plot of examples by class label\n",
    "for label, _ in counter.items():\n",
    "\trow_ix = where(y == label)[0]\n",
    "\tpyplot.scatter(X[row_ix, 0], X[row_ix, 1], label=str(label))\n",
    "pyplot.legend()\n",
    "pyplot.show()"
   ]
  },
  {
   "cell_type": "code",
   "execution_count": 270,
   "metadata": {},
   "outputs": [],
   "source": [
    "expected = y_over\n",
    "# define pipeline\n",
    "steps = [('over', ADASYN()), ('model', MLPClassifier())]\n",
    "pipeline = Pipeline(steps=steps)"
   ]
  },
  {
   "cell_type": "code",
   "execution_count": 271,
   "metadata": {},
   "outputs": [],
   "source": [
    "# evaluate pipeline\n",
    "from sklearn.model_selection import cross_val_score\n",
    "cv = KFold(n_splits=2,random_state=5, shuffle=True)\n",
    "y_prediction = cross_val_predict(clf,X_over,y_over, cv=2)\n",
    "acc_score = accuracy_score(expected, y_prediction)"
   ]
  },
  {
   "cell_type": "code",
   "execution_count": 272,
   "metadata": {},
   "outputs": [
    {
     "name": "stdout",
     "output_type": "stream",
     "text": [
      "Accuracy score: 0.950354609929078\n",
      "Score: 0.9583333333333334\n",
      "Confusion matrix: \n",
      "[[40  0  0]\n",
      " [ 0 50  1]\n",
      " [ 0  6 44]]\n",
      "Sum of matrix: 141\n"
     ]
    },
    {
     "data": {
      "image/png": "[encoded data removed]",
      "text/plain": [
       "<Figure size 480x480 with 2 Axes>"
      ]
     },
     "metadata": {},
     "output_type": "display_data"
    }
   ],
   "source": [
    "import pylab as pl\n",
    "\n",
    "cm = confusion_matrix(expected, y_prediction)\n",
    "print(f\"Accuracy score: {acc_score}\")\n",
    "print(f\"Score: {score}\")\n",
    "print(f\"Confusion matrix: \\n{cm}\")\n",
    "print(f\"Sum of matrix: {cm.sum()}\")\n",
    "\n",
    "\n",
    "pl.matshow(cm)\n",
    "pl.title('Confusion matrix of the classifier')\n",
    "pl.xlabel('Predicted')\n",
    "pl.ylabel('True')\n",
    "\n",
    "pl.colorbar()\n",
    "pl.show()"
   ]
  },
  {
   "cell_type": "markdown",
   "metadata": {},
   "source": [
    "## Part 3"
   ]
  },
  {
   "cell_type": "markdown",
   "metadata": {},
   "source": [
    "### Random Undersampling"
   ]
  },
  {
   "cell_type": "code",
   "execution_count": 273,
   "metadata": {},
   "outputs": [
    {
     "name": "stdout",
     "output_type": "stream",
     "text": [
      "Before sampling counter: Counter({'Iris-virginica': 50, 'Iris-setosa': 40, 'Iris-versicolor': 30})\n",
      "After sampling counter: Counter({'Iris-versicolor': 50, 'Iris-virginica': 50, 'Iris-setosa': 40})\n"
     ]
    }
   ],
   "source": [
    "from collections import Counter\n",
    "from itertools import count\n",
    "from imblearn.under_sampling import RandomUnderSampler\n",
    "\n",
    "\n",
    "# previous - summarize class distribution\n",
    "print(f\"Before sampling counter: {Counter(y)}\")\n",
    "# define oversampling strategy\n",
    "oversample = RandomOverSampler(sampling_strategy='minority')\n",
    "\n",
    "# fit and apply the transform\n",
    "X_under, y_under = oversample.fit_resample(X, y)\n",
    "\n",
    "counter = Counter(y_under)\n",
    "# after- summarize class distribution\n",
    "print(f\"After sampling counter: {counter}\")"
   ]
  },
  {
   "cell_type": "code",
   "execution_count": 274,
   "metadata": {},
   "outputs": [],
   "source": [
    "expected = y_under\n",
    "# define pipeline\n",
    "steps = [('over', RandomUnderSampler()), ('model', MLPClassifier())]\n",
    "pipeline = Pipeline(steps=steps)"
   ]
  },
  {
   "cell_type": "code",
   "execution_count": 275,
   "metadata": {},
   "outputs": [],
   "source": [
    "# evaluate pipeline\n",
    "cv = KFold(n_splits=2,random_state=5, shuffle=True)\n",
    "scores = cross_val_score(pipeline, X, y, scoring='f1_micro', cv=cv, n_jobs=-1)\n",
    "y_prediction = cross_val_predict(clf,X_under,y_under, cv=2)\n",
    "acc_score = accuracy_score(expected, y_prediction)\n",
    "score = mean(scores)"
   ]
  },
  {
   "cell_type": "code",
   "execution_count": 276,
   "metadata": {},
   "outputs": [
    {
     "name": "stdout",
     "output_type": "stream",
     "text": [
      "Accuracy score: 0.9357142857142857\n",
      "Score: 0.9666666666666667\n",
      "Confusion matrix: \n",
      "[[40  0  0]\n",
      " [ 0 47  3]\n",
      " [ 0  6 44]]\n",
      "Sum of matrix: 140\n"
     ]
    },
    {
     "data": {
      "image/png": "[encoded data removed]",
      "text/plain": [
       "<Figure size 480x480 with 2 Axes>"
      ]
     },
     "metadata": {},
     "output_type": "display_data"
    }
   ],
   "source": [
    "import pylab as pl\n",
    "\n",
    "cm = confusion_matrix(expected, y_prediction)\n",
    "print(f\"Accuracy score: {acc_score}\")\n",
    "print(f\"Score: {score}\")\n",
    "print(f\"Confusion matrix: \\n{cm}\")\n",
    "print(f\"Sum of matrix: {cm.sum()}\")\n",
    "\n",
    "\n",
    "pl.matshow(cm)\n",
    "pl.title('Confusion matrix of the classifier')\n",
    "pl.xlabel('Predicted')\n",
    "pl.ylabel('True')\n",
    "\n",
    "pl.colorbar()\n",
    "pl.show()"
   ]
  },
  {
   "cell_type": "markdown",
   "metadata": {},
   "source": [
    "### Cluster Undersampling"
   ]
  },
  {
   "cell_type": "code",
   "execution_count": 277,
   "metadata": {},
   "outputs": [
    {
     "name": "stdout",
     "output_type": "stream",
     "text": [
      "Before sampling counter: Counter({'Iris-virginica': 50, 'Iris-setosa': 40, 'Iris-versicolor': 30})\n",
      "After sampling counter: Counter({'Iris-setosa': 30, 'Iris-versicolor': 30, 'Iris-virginica': 30})\n"
     ]
    }
   ],
   "source": [
    "from imblearn.under_sampling import ClusterCentroids\n",
    "\n",
    "# previous - summarize class distribution\n",
    "print(f\"Before sampling counter: {Counter(y)}\")\n",
    "\n",
    "cc = ClusterCentroids(random_state=42, sampling_strategy=\"all\")\n",
    "\n",
    "# fit and apply the transform\n",
    "X_under, y_under = cc.fit_resample(X, y)\n",
    "\n",
    "counter = Counter(y_under)\n",
    "# after- summarize class distribution\n",
    "print(f\"After sampling counter: {counter}\")\n"
   ]
  },
  {
   "cell_type": "code",
   "execution_count": 278,
   "metadata": {},
   "outputs": [],
   "source": [
    "expected = y_under\n",
    "# define pipeline\n",
    "steps = [('over', ClusterCentroids()), ('model', MLPClassifier())]\n",
    "pipeline = Pipeline(steps=steps)"
   ]
  },
  {
   "cell_type": "code",
   "execution_count": 279,
   "metadata": {},
   "outputs": [],
   "source": [
    "# evaluate pipeline\n",
    "cv = KFold(n_splits=2,random_state=5, shuffle=True)\n",
    "scores = cross_val_score(pipeline, X, y, scoring='f1_micro', cv=cv, n_jobs=-1)\n",
    "y_prediction = cross_val_predict(clf,X_under,y_under, cv=2)\n",
    "acc_score = accuracy_score(expected, y_prediction)\n",
    "score = mean(scores)"
   ]
  },
  {
   "cell_type": "code",
   "execution_count": 280,
   "metadata": {},
   "outputs": [
    {
     "name": "stdout",
     "output_type": "stream",
     "text": [
      "Accuracy score: 0.9555555555555556\n",
      "Score: 0.9583333333333334\n",
      "Confusion matrix: \n",
      "[[30  0  0]\n",
      " [ 0 28  2]\n",
      " [ 0  2 28]]\n",
      "Sum of matrix: 90\n"
     ]
    },
    {
     "data": {
      "image/png": "[encoded data removed]",
      "text/plain": [
       "<Figure size 480x480 with 2 Axes>"
      ]
     },
     "metadata": {},
     "output_type": "display_data"
    }
   ],
   "source": [
    "import pylab as pl\n",
    "\n",
    "cm = confusion_matrix(expected, y_prediction)\n",
    "print(f\"Accuracy score: {acc_score}\")\n",
    "print(f\"Score: {score}\")\n",
    "print(f\"Confusion matrix: \\n{cm}\")\n",
    "print(f\"Sum of matrix: {cm.sum()}\")\n",
    "\n",
    "\n",
    "pl.matshow(cm)\n",
    "pl.title('Confusion matrix of the classifier')\n",
    "pl.xlabel('Predicted')\n",
    "pl.ylabel('True')\n",
    "\n",
    "pl.colorbar()\n",
    "pl.show()"
   ]
  },
  {
   "cell_type": "markdown",
   "metadata": {},
   "source": [
    "### Tomek Links"
   ]
  },
  {
   "cell_type": "code",
   "execution_count": 281,
   "metadata": {},
   "outputs": [],
   "source": [
    "from imblearn.under_sampling import TomekLinks"
   ]
  },
  {
   "cell_type": "code",
   "execution_count": 282,
   "metadata": {},
   "outputs": [
    {
     "name": "stdout",
     "output_type": "stream",
     "text": [
      "Before sampling counter: Counter({'Iris-virginica': 50, 'Iris-setosa': 40, 'Iris-versicolor': 30})\n",
      "After sampling counter: Counter({'Iris-setosa': 30, 'Iris-versicolor': 30, 'Iris-virginica': 30})\n"
     ]
    }
   ],
   "source": [
    "tl = TomekLinks(sampling_strategy='all')\n",
    "\n",
    "# previous - summarize class distribution\n",
    "print(f\"Before sampling counter: {Counter(y)}\")\n",
    "\n",
    "# fit and apply the transform\n",
    "X_under, y_under = cc.fit_resample(X, y)\n",
    "\n",
    "counter = Counter(y_under)\n",
    "# after- summarize class distribution\n",
    "print(f\"After sampling counter: {counter}\")\n"
   ]
  },
  {
   "cell_type": "code",
   "execution_count": 283,
   "metadata": {},
   "outputs": [],
   "source": [
    "expected = y_under\n",
    "# define pipeline\n",
    "steps = [('over', TomekLinks()), ('model', MLPClassifier())]\n",
    "pipeline = Pipeline(steps=steps)"
   ]
  },
  {
   "cell_type": "code",
   "execution_count": 284,
   "metadata": {},
   "outputs": [],
   "source": [
    "# evaluate pipeline\n",
    "cv = KFold(n_splits=2,random_state=5, shuffle=True)\n",
    "scores = cross_val_score(pipeline, X, y, scoring='f1_micro', cv=cv, n_jobs=-1)\n",
    "y_prediction = cross_val_predict(clf,X_under,y_under, cv=2)\n",
    "acc_score = accuracy_score(expected, y_prediction)\n",
    "score = mean(scores)"
   ]
  },
  {
   "cell_type": "code",
   "execution_count": 285,
   "metadata": {},
   "outputs": [
    {
     "name": "stdout",
     "output_type": "stream",
     "text": [
      "Accuracy score: 0.9555555555555556\n",
      "Score: 0.9\n",
      "Confusion matrix: \n",
      "[[30  0  0]\n",
      " [ 0 28  2]\n",
      " [ 0  2 28]]\n",
      "Sum of matrix: 90\n"
     ]
    },
    {
     "data": {
      "image/png": "[encoded data removed]",
      "text/plain": [
       "<Figure size 480x480 with 2 Axes>"
      ]
     },
     "metadata": {},
     "output_type": "display_data"
    }
   ],
   "source": [
    "import pylab as pl\n",
    "\n",
    "cm = confusion_matrix(expected, y_prediction)\n",
    "print(f\"Accuracy score: {acc_score}\")\n",
    "print(f\"Score: {score}\")\n",
    "print(f\"Confusion matrix: \\n{cm}\")\n",
    "print(f\"Sum of matrix: {cm.sum()}\")\n",
    "\n",
    "\n",
    "pl.matshow(cm)\n",
    "pl.title('Confusion matrix of the classifier')\n",
    "pl.xlabel('Predicted')\n",
    "pl.ylabel('True')\n",
    "\n",
    "pl.colorbar()\n",
    "pl.show()"
   ]
  },
  {
   "cell_type": "code",
   "execution_count": null,
   "metadata": {},
   "outputs": [],
   "source": []
  }
 ],
 "metadata": {
  "kernelspec": {
   "display_name": "Python 3.9.1 64-bit",
   "language": "python",
   "name": "python3"
  },
  "language_info": {
   "codemirror_mode": {
    "name": "ipython",
    "version": 3
   },
   "file_extension": ".py",
   "mimetype": "text/x-python",
   "name": "python",
   "nbconvert_exporter": "python",
   "pygments_lexer": "ipython3",
   "version": "3.9.1"
  },
  "orig_nbformat": 4,
  "vscode": {
   "interpreter": {
    "hash": "88784adb0b8c4ff769d04a5057ed948106afb0dcb7a4c6d8c6fdb716c72bc917"
   }
  }
 },
 "nbformat": 4,
 "nbformat_minor": 2
}
